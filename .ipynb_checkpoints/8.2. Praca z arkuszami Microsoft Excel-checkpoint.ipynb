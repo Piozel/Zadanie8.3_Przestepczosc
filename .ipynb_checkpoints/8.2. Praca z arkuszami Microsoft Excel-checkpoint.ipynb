{
 "cells": [
  {
   "cell_type": "code",
   "execution_count": 1,
   "id": "5b2da13c-bfaa-47a4-b973-eeebdc0fd688",
   "metadata": {},
   "outputs": [
    {
     "ename": "FileNotFoundError",
     "evalue": "[Errno 2] No such file or directory: 'myCsvFile.csv'",
     "output_type": "error",
     "traceback": [
      "\u001b[1;31m---------------------------------------------------------------------------\u001b[0m",
      "\u001b[1;31mFileNotFoundError\u001b[0m                         Traceback (most recent call last)",
      "Cell \u001b[1;32mIn[1], line 10\u001b[0m\n\u001b[0;32m      7\u001b[0m \u001b[38;5;28;01mimport\u001b[39;00m\u001b[38;5;250m \u001b[39m\u001b[38;5;21;01mpandas\u001b[39;00m\u001b[38;5;250m \u001b[39m\u001b[38;5;28;01mas\u001b[39;00m\u001b[38;5;250m \u001b[39m\u001b[38;5;21;01mpd\u001b[39;00m\n\u001b[0;32m      8\u001b[0m \u001b[38;5;28;01mimport\u001b[39;00m\u001b[38;5;250m \u001b[39m\u001b[38;5;21;01mnumpy\u001b[39;00m\u001b[38;5;250m \u001b[39m\u001b[38;5;28;01mas\u001b[39;00m\u001b[38;5;250m \u001b[39m\u001b[38;5;21;01mnp\u001b[39;00m\n\u001b[1;32m---> 10\u001b[0m df \u001b[38;5;241m=\u001b[39m \u001b[43mpd\u001b[49m\u001b[38;5;241;43m.\u001b[39;49m\u001b[43mread_csv\u001b[49m\u001b[43m(\u001b[49m\u001b[38;5;124;43m'\u001b[39;49m\u001b[38;5;124;43mmyCsvFile.csv\u001b[39;49m\u001b[38;5;124;43m'\u001b[39;49m\u001b[43m)\u001b[49m\n",
      "File \u001b[1;32m~\\AppData\\Local\\Programs\\Python\\Python313\\Lib\\site-packages\\pandas\\io\\parsers\\readers.py:1026\u001b[0m, in \u001b[0;36mread_csv\u001b[1;34m(filepath_or_buffer, sep, delimiter, header, names, index_col, usecols, dtype, engine, converters, true_values, false_values, skipinitialspace, skiprows, skipfooter, nrows, na_values, keep_default_na, na_filter, verbose, skip_blank_lines, parse_dates, infer_datetime_format, keep_date_col, date_parser, date_format, dayfirst, cache_dates, iterator, chunksize, compression, thousands, decimal, lineterminator, quotechar, quoting, doublequote, escapechar, comment, encoding, encoding_errors, dialect, on_bad_lines, delim_whitespace, low_memory, memory_map, float_precision, storage_options, dtype_backend)\u001b[0m\n\u001b[0;32m   1013\u001b[0m kwds_defaults \u001b[38;5;241m=\u001b[39m _refine_defaults_read(\n\u001b[0;32m   1014\u001b[0m     dialect,\n\u001b[0;32m   1015\u001b[0m     delimiter,\n\u001b[1;32m   (...)\u001b[0m\n\u001b[0;32m   1022\u001b[0m     dtype_backend\u001b[38;5;241m=\u001b[39mdtype_backend,\n\u001b[0;32m   1023\u001b[0m )\n\u001b[0;32m   1024\u001b[0m kwds\u001b[38;5;241m.\u001b[39mupdate(kwds_defaults)\n\u001b[1;32m-> 1026\u001b[0m \u001b[38;5;28;01mreturn\u001b[39;00m \u001b[43m_read\u001b[49m\u001b[43m(\u001b[49m\u001b[43mfilepath_or_buffer\u001b[49m\u001b[43m,\u001b[49m\u001b[43m \u001b[49m\u001b[43mkwds\u001b[49m\u001b[43m)\u001b[49m\n",
      "File \u001b[1;32m~\\AppData\\Local\\Programs\\Python\\Python313\\Lib\\site-packages\\pandas\\io\\parsers\\readers.py:620\u001b[0m, in \u001b[0;36m_read\u001b[1;34m(filepath_or_buffer, kwds)\u001b[0m\n\u001b[0;32m    617\u001b[0m _validate_names(kwds\u001b[38;5;241m.\u001b[39mget(\u001b[38;5;124m\"\u001b[39m\u001b[38;5;124mnames\u001b[39m\u001b[38;5;124m\"\u001b[39m, \u001b[38;5;28;01mNone\u001b[39;00m))\n\u001b[0;32m    619\u001b[0m \u001b[38;5;66;03m# Create the parser.\u001b[39;00m\n\u001b[1;32m--> 620\u001b[0m parser \u001b[38;5;241m=\u001b[39m \u001b[43mTextFileReader\u001b[49m\u001b[43m(\u001b[49m\u001b[43mfilepath_or_buffer\u001b[49m\u001b[43m,\u001b[49m\u001b[43m \u001b[49m\u001b[38;5;241;43m*\u001b[39;49m\u001b[38;5;241;43m*\u001b[39;49m\u001b[43mkwds\u001b[49m\u001b[43m)\u001b[49m\n\u001b[0;32m    622\u001b[0m \u001b[38;5;28;01mif\u001b[39;00m chunksize \u001b[38;5;129;01mor\u001b[39;00m iterator:\n\u001b[0;32m    623\u001b[0m     \u001b[38;5;28;01mreturn\u001b[39;00m parser\n",
      "File \u001b[1;32m~\\AppData\\Local\\Programs\\Python\\Python313\\Lib\\site-packages\\pandas\\io\\parsers\\readers.py:1620\u001b[0m, in \u001b[0;36mTextFileReader.__init__\u001b[1;34m(self, f, engine, **kwds)\u001b[0m\n\u001b[0;32m   1617\u001b[0m     \u001b[38;5;28mself\u001b[39m\u001b[38;5;241m.\u001b[39moptions[\u001b[38;5;124m\"\u001b[39m\u001b[38;5;124mhas_index_names\u001b[39m\u001b[38;5;124m\"\u001b[39m] \u001b[38;5;241m=\u001b[39m kwds[\u001b[38;5;124m\"\u001b[39m\u001b[38;5;124mhas_index_names\u001b[39m\u001b[38;5;124m\"\u001b[39m]\n\u001b[0;32m   1619\u001b[0m \u001b[38;5;28mself\u001b[39m\u001b[38;5;241m.\u001b[39mhandles: IOHandles \u001b[38;5;241m|\u001b[39m \u001b[38;5;28;01mNone\u001b[39;00m \u001b[38;5;241m=\u001b[39m \u001b[38;5;28;01mNone\u001b[39;00m\n\u001b[1;32m-> 1620\u001b[0m \u001b[38;5;28mself\u001b[39m\u001b[38;5;241m.\u001b[39m_engine \u001b[38;5;241m=\u001b[39m \u001b[38;5;28;43mself\u001b[39;49m\u001b[38;5;241;43m.\u001b[39;49m\u001b[43m_make_engine\u001b[49m\u001b[43m(\u001b[49m\u001b[43mf\u001b[49m\u001b[43m,\u001b[49m\u001b[43m \u001b[49m\u001b[38;5;28;43mself\u001b[39;49m\u001b[38;5;241;43m.\u001b[39;49m\u001b[43mengine\u001b[49m\u001b[43m)\u001b[49m\n",
      "File \u001b[1;32m~\\AppData\\Local\\Programs\\Python\\Python313\\Lib\\site-packages\\pandas\\io\\parsers\\readers.py:1880\u001b[0m, in \u001b[0;36mTextFileReader._make_engine\u001b[1;34m(self, f, engine)\u001b[0m\n\u001b[0;32m   1878\u001b[0m     \u001b[38;5;28;01mif\u001b[39;00m \u001b[38;5;124m\"\u001b[39m\u001b[38;5;124mb\u001b[39m\u001b[38;5;124m\"\u001b[39m \u001b[38;5;129;01mnot\u001b[39;00m \u001b[38;5;129;01min\u001b[39;00m mode:\n\u001b[0;32m   1879\u001b[0m         mode \u001b[38;5;241m+\u001b[39m\u001b[38;5;241m=\u001b[39m \u001b[38;5;124m\"\u001b[39m\u001b[38;5;124mb\u001b[39m\u001b[38;5;124m\"\u001b[39m\n\u001b[1;32m-> 1880\u001b[0m \u001b[38;5;28mself\u001b[39m\u001b[38;5;241m.\u001b[39mhandles \u001b[38;5;241m=\u001b[39m \u001b[43mget_handle\u001b[49m\u001b[43m(\u001b[49m\n\u001b[0;32m   1881\u001b[0m \u001b[43m    \u001b[49m\u001b[43mf\u001b[49m\u001b[43m,\u001b[49m\n\u001b[0;32m   1882\u001b[0m \u001b[43m    \u001b[49m\u001b[43mmode\u001b[49m\u001b[43m,\u001b[49m\n\u001b[0;32m   1883\u001b[0m \u001b[43m    \u001b[49m\u001b[43mencoding\u001b[49m\u001b[38;5;241;43m=\u001b[39;49m\u001b[38;5;28;43mself\u001b[39;49m\u001b[38;5;241;43m.\u001b[39;49m\u001b[43moptions\u001b[49m\u001b[38;5;241;43m.\u001b[39;49m\u001b[43mget\u001b[49m\u001b[43m(\u001b[49m\u001b[38;5;124;43m\"\u001b[39;49m\u001b[38;5;124;43mencoding\u001b[39;49m\u001b[38;5;124;43m\"\u001b[39;49m\u001b[43m,\u001b[49m\u001b[43m \u001b[49m\u001b[38;5;28;43;01mNone\u001b[39;49;00m\u001b[43m)\u001b[49m\u001b[43m,\u001b[49m\n\u001b[0;32m   1884\u001b[0m \u001b[43m    \u001b[49m\u001b[43mcompression\u001b[49m\u001b[38;5;241;43m=\u001b[39;49m\u001b[38;5;28;43mself\u001b[39;49m\u001b[38;5;241;43m.\u001b[39;49m\u001b[43moptions\u001b[49m\u001b[38;5;241;43m.\u001b[39;49m\u001b[43mget\u001b[49m\u001b[43m(\u001b[49m\u001b[38;5;124;43m\"\u001b[39;49m\u001b[38;5;124;43mcompression\u001b[39;49m\u001b[38;5;124;43m\"\u001b[39;49m\u001b[43m,\u001b[49m\u001b[43m \u001b[49m\u001b[38;5;28;43;01mNone\u001b[39;49;00m\u001b[43m)\u001b[49m\u001b[43m,\u001b[49m\n\u001b[0;32m   1885\u001b[0m \u001b[43m    \u001b[49m\u001b[43mmemory_map\u001b[49m\u001b[38;5;241;43m=\u001b[39;49m\u001b[38;5;28;43mself\u001b[39;49m\u001b[38;5;241;43m.\u001b[39;49m\u001b[43moptions\u001b[49m\u001b[38;5;241;43m.\u001b[39;49m\u001b[43mget\u001b[49m\u001b[43m(\u001b[49m\u001b[38;5;124;43m\"\u001b[39;49m\u001b[38;5;124;43mmemory_map\u001b[39;49m\u001b[38;5;124;43m\"\u001b[39;49m\u001b[43m,\u001b[49m\u001b[43m \u001b[49m\u001b[38;5;28;43;01mFalse\u001b[39;49;00m\u001b[43m)\u001b[49m\u001b[43m,\u001b[49m\n\u001b[0;32m   1886\u001b[0m \u001b[43m    \u001b[49m\u001b[43mis_text\u001b[49m\u001b[38;5;241;43m=\u001b[39;49m\u001b[43mis_text\u001b[49m\u001b[43m,\u001b[49m\n\u001b[0;32m   1887\u001b[0m \u001b[43m    \u001b[49m\u001b[43merrors\u001b[49m\u001b[38;5;241;43m=\u001b[39;49m\u001b[38;5;28;43mself\u001b[39;49m\u001b[38;5;241;43m.\u001b[39;49m\u001b[43moptions\u001b[49m\u001b[38;5;241;43m.\u001b[39;49m\u001b[43mget\u001b[49m\u001b[43m(\u001b[49m\u001b[38;5;124;43m\"\u001b[39;49m\u001b[38;5;124;43mencoding_errors\u001b[39;49m\u001b[38;5;124;43m\"\u001b[39;49m\u001b[43m,\u001b[49m\u001b[43m \u001b[49m\u001b[38;5;124;43m\"\u001b[39;49m\u001b[38;5;124;43mstrict\u001b[39;49m\u001b[38;5;124;43m\"\u001b[39;49m\u001b[43m)\u001b[49m\u001b[43m,\u001b[49m\n\u001b[0;32m   1888\u001b[0m \u001b[43m    \u001b[49m\u001b[43mstorage_options\u001b[49m\u001b[38;5;241;43m=\u001b[39;49m\u001b[38;5;28;43mself\u001b[39;49m\u001b[38;5;241;43m.\u001b[39;49m\u001b[43moptions\u001b[49m\u001b[38;5;241;43m.\u001b[39;49m\u001b[43mget\u001b[49m\u001b[43m(\u001b[49m\u001b[38;5;124;43m\"\u001b[39;49m\u001b[38;5;124;43mstorage_options\u001b[39;49m\u001b[38;5;124;43m\"\u001b[39;49m\u001b[43m,\u001b[49m\u001b[43m \u001b[49m\u001b[38;5;28;43;01mNone\u001b[39;49;00m\u001b[43m)\u001b[49m\u001b[43m,\u001b[49m\n\u001b[0;32m   1889\u001b[0m \u001b[43m\u001b[49m\u001b[43m)\u001b[49m\n\u001b[0;32m   1890\u001b[0m \u001b[38;5;28;01massert\u001b[39;00m \u001b[38;5;28mself\u001b[39m\u001b[38;5;241m.\u001b[39mhandles \u001b[38;5;129;01mis\u001b[39;00m \u001b[38;5;129;01mnot\u001b[39;00m \u001b[38;5;28;01mNone\u001b[39;00m\n\u001b[0;32m   1891\u001b[0m f \u001b[38;5;241m=\u001b[39m \u001b[38;5;28mself\u001b[39m\u001b[38;5;241m.\u001b[39mhandles\u001b[38;5;241m.\u001b[39mhandle\n",
      "File \u001b[1;32m~\\AppData\\Local\\Programs\\Python\\Python313\\Lib\\site-packages\\pandas\\io\\common.py:873\u001b[0m, in \u001b[0;36mget_handle\u001b[1;34m(path_or_buf, mode, encoding, compression, memory_map, is_text, errors, storage_options)\u001b[0m\n\u001b[0;32m    868\u001b[0m \u001b[38;5;28;01melif\u001b[39;00m \u001b[38;5;28misinstance\u001b[39m(handle, \u001b[38;5;28mstr\u001b[39m):\n\u001b[0;32m    869\u001b[0m     \u001b[38;5;66;03m# Check whether the filename is to be opened in binary mode.\u001b[39;00m\n\u001b[0;32m    870\u001b[0m     \u001b[38;5;66;03m# Binary mode does not support 'encoding' and 'newline'.\u001b[39;00m\n\u001b[0;32m    871\u001b[0m     \u001b[38;5;28;01mif\u001b[39;00m ioargs\u001b[38;5;241m.\u001b[39mencoding \u001b[38;5;129;01mand\u001b[39;00m \u001b[38;5;124m\"\u001b[39m\u001b[38;5;124mb\u001b[39m\u001b[38;5;124m\"\u001b[39m \u001b[38;5;129;01mnot\u001b[39;00m \u001b[38;5;129;01min\u001b[39;00m ioargs\u001b[38;5;241m.\u001b[39mmode:\n\u001b[0;32m    872\u001b[0m         \u001b[38;5;66;03m# Encoding\u001b[39;00m\n\u001b[1;32m--> 873\u001b[0m         handle \u001b[38;5;241m=\u001b[39m \u001b[38;5;28;43mopen\u001b[39;49m\u001b[43m(\u001b[49m\n\u001b[0;32m    874\u001b[0m \u001b[43m            \u001b[49m\u001b[43mhandle\u001b[49m\u001b[43m,\u001b[49m\n\u001b[0;32m    875\u001b[0m \u001b[43m            \u001b[49m\u001b[43mioargs\u001b[49m\u001b[38;5;241;43m.\u001b[39;49m\u001b[43mmode\u001b[49m\u001b[43m,\u001b[49m\n\u001b[0;32m    876\u001b[0m \u001b[43m            \u001b[49m\u001b[43mencoding\u001b[49m\u001b[38;5;241;43m=\u001b[39;49m\u001b[43mioargs\u001b[49m\u001b[38;5;241;43m.\u001b[39;49m\u001b[43mencoding\u001b[49m\u001b[43m,\u001b[49m\n\u001b[0;32m    877\u001b[0m \u001b[43m            \u001b[49m\u001b[43merrors\u001b[49m\u001b[38;5;241;43m=\u001b[39;49m\u001b[43merrors\u001b[49m\u001b[43m,\u001b[49m\n\u001b[0;32m    878\u001b[0m \u001b[43m            \u001b[49m\u001b[43mnewline\u001b[49m\u001b[38;5;241;43m=\u001b[39;49m\u001b[38;5;124;43m\"\u001b[39;49m\u001b[38;5;124;43m\"\u001b[39;49m\u001b[43m,\u001b[49m\n\u001b[0;32m    879\u001b[0m \u001b[43m        \u001b[49m\u001b[43m)\u001b[49m\n\u001b[0;32m    880\u001b[0m     \u001b[38;5;28;01melse\u001b[39;00m:\n\u001b[0;32m    881\u001b[0m         \u001b[38;5;66;03m# Binary mode\u001b[39;00m\n\u001b[0;32m    882\u001b[0m         handle \u001b[38;5;241m=\u001b[39m \u001b[38;5;28mopen\u001b[39m(handle, ioargs\u001b[38;5;241m.\u001b[39mmode)\n",
      "\u001b[1;31mFileNotFoundError\u001b[0m: [Errno 2] No such file or directory: 'myCsvFile.csv'"
     ]
    }
   ],
   "source": [
    "#8.2. Praca z arkuszami Microsoft Excel\n",
    "\n",
    "#Pandas umożliwia szybki odczyt i zapis plików do większości formatów, z których korzystamy w procesie analizy danych. W tym rozdziale omówimy pracę z plikami typu CSV i Excel. Pokażemy również sposób na wczytywanie danych prosto z tabeli HTML, a także jak pracować z danymi przechowywanymi w relacyjnej bazie danych SQL.\n",
    "#Pliki csv\n",
    "\n",
    "#W celu wczytania danych z pliku csv, bezpośrednio do obiektu DataFrame, wystarczy użyć funkcji read_csv.\n",
    "import pandas as pd\n",
    "import numpy as np\n",
    "    \n",
    "#df = pd.read_csv('myCsvFile.csv')"
   ]
  },
  {
   "cell_type": "code",
   "execution_count": 2,
   "id": "fd31da96-eeee-4b58-834f-fa4d9bd21c3f",
   "metadata": {},
   "outputs": [
    {
     "ename": "NameError",
     "evalue": "name 'df' is not defined",
     "output_type": "error",
     "traceback": [
      "\u001b[1;31m---------------------------------------------------------------------------\u001b[0m",
      "\u001b[1;31mNameError\u001b[0m                                 Traceback (most recent call last)",
      "Cell \u001b[1;32mIn[2], line 3\u001b[0m\n\u001b[0;32m      1\u001b[0m \u001b[38;5;66;03m#Eksport do pliku csv polega na wywołaniu funkcji to_csv na obiekcie typu DataFrame.\u001b[39;00m\n\u001b[1;32m----> 3\u001b[0m \u001b[43mdf\u001b[49m\u001b[38;5;241m.\u001b[39mto_csv(\u001b[38;5;124m'\u001b[39m\u001b[38;5;124mmyNewCsvFile.csv\u001b[39m\u001b[38;5;124m'\u001b[39m, index\u001b[38;5;241m=\u001b[39m\u001b[38;5;28;01mFalse\u001b[39;00m)\n\u001b[0;32m      5\u001b[0m \u001b[38;5;66;03m#Dodanie na końcu komendy index=False jest opcjonalne. Pozwala to jednak na eksport do formatu csv bez uwzględniania etykiet indeksu.\u001b[39;00m\n",
      "\u001b[1;31mNameError\u001b[0m: name 'df' is not defined"
     ]
    }
   ],
   "source": [
    "#Eksport do pliku csv polega na wywołaniu funkcji to_csv na obiekcie typu DataFrame.\n",
    "\n",
    "df.to_csv('myNewCsvFile.csv', index=False)\n",
    "\n",
    "#Dodanie na końcu komendy index=False jest opcjonalne. Pozwala to jednak na eksport do formatu csv bez uwzględniania etykiet indeksu."
   ]
  },
  {
   "cell_type": "code",
   "execution_count": 1,
   "id": "600a1104-eaf6-40e8-9820-6bb98fc33760",
   "metadata": {},
   "outputs": [],
   "source": [
    "#Praca z plikami Excel\n",
    "\n",
    "#Podstawowy odczyt i zapis do plików Excel działa bardzo podobnie, jak w przypadku plików csv. Możesz pobrać przykładowy plik.\n",
    "#Dane do DataFrame wczytujemy w następujący sposób:\n",
    "\n",
    "import pandas as pd\n",
    "df = pd.read_excel('myExcelFile.xlsx', sheet_name='my_data')"
   ]
  },
  {
   "cell_type": "code",
   "execution_count": 2,
   "id": "1e091929-2675-4809-a4cd-10851aca6538",
   "metadata": {},
   "outputs": [],
   "source": [
    "#Wprowadzenie parametru określającego nazwę zakładki, z której Pandas postara się pobrać dane, jest opcjonalne. \n",
    "#Domyślnie wczytana będzie zawartość pierwszej zakładki.\n",
    "\n",
    "#Eksport do pliku Excel wykonujemy, wykorzystując funkcję to_excel.\n",
    "\n",
    "df.to_excel('myNewExcelFile.xlsx', sheet_name='my_new_data')"
   ]
  },
  {
   "cell_type": "code",
   "execution_count": 5,
   "id": "e6192b07-cb43-4765-b480-c1ec0ce9b2e9",
   "metadata": {},
   "outputs": [],
   "source": [
    "#Bardziej zaawansowane operacje na plikach MS Excel możemy wykonać dzięki silnikowi XlsxWriter.\n",
    "#UWAGA\n",
    "\n",
    "#Aby przykłady zaprezentowane poniżej działały poprawnie, musisz mieć zainstalowany pakiet Office z programem Microsoft Excel.\n",
    "\n",
    "#Standardowy zapis DataFrame do skoroszytu Excel wypełnia kolejne komórki we wskazanej zakładce, rozpoczynając od A1. Korzystając z silnika XlsxWriter,\n",
    "#możemy korzystać z całej długości i szerokości arkusza w celu zapisywania i formatowania danych w niemalże dowolny sposób.\n",
    "\n",
    "#W pierwszym przykładzie zapiszemy dwa razy tę samą tabelę do tej samej zakładki arkusza Excel.\n",
    "\n",
    "#Na początek stworzymy obiekt ExcelWriter, w którym sprecyzujemy nazwę pliku oraz silnik, którego chcemy używać.\n",
    "\n",
    "writer = pd.ExcelWriter('myExcelFile.xlsx', engine='xlsxwriter')"
   ]
  },
  {
   "cell_type": "code",
   "execution_count": 6,
   "id": "b80f501d-8e25-4e39-adc6-ec76d4c68068",
   "metadata": {},
   "outputs": [],
   "source": [
    "#Do obiektu przypisanego do zmiennej writer będziemy odwoływać się, zapisując kolejne DataFrame do arkusza.\n",
    "\n",
    "df.to_excel(writer, sheet_name='my_dfs')\n",
    "df.to_excel(writer, sheet_name='my_dfs', startcol=6, startrow=5, index=False)"
   ]
  },
  {
   "cell_type": "code",
   "execution_count": 8,
   "id": "d457a2b5-74d0-486f-8ece-f36d9f66f4e4",
   "metadata": {},
   "outputs": [],
   "source": [
    "#Nie dodając dodatkowych parametrów związanych z pozycją tabeli przypisanej do zmiennej df, możemy spodziewać się, zostanie zapisana w arkuszu,\n",
    "#rozpoczynając od komórki A1. Zapisując drugi raz tabelę df, korzystając z parametrów startcol oraz startrow dajemy dodatkowe instrukcje \n",
    "#co do miejsca, w którym ma znaleźć się output.\n",
    "\n",
    "#Na koniec zapisujemy plik przy użyciu komendy:\n",
    "\n",
    "writer.close()"
   ]
  },
  {
   "cell_type": "code",
   "execution_count": 9,
   "id": "63c22100-c6f2-452b-a3c0-c39ddd4ab5a2",
   "metadata": {},
   "outputs": [],
   "source": [
    "#W podobny sposób możemy zapisywać dane do różnych zakładek tego samego pliku:\n",
    "\n",
    "writer = pd.ExcelWriter('many_sheets.xlsx', engine='xlsxwriter')\n",
    "\n",
    "df.to_excel(writer, sheet_name='my_df1')\n",
    "df.to_excel(writer, sheet_name='my_df2')\n",
    "\n",
    "writer.close()"
   ]
  },
  {
   "cell_type": "code",
   "execution_count": 10,
   "id": "7d65c19b-9658-4aa6-b0c1-d0bdfe333bcc",
   "metadata": {},
   "outputs": [
    {
     "data": {
      "text/html": [
       "<div>\n",
       "<style scoped>\n",
       "    .dataframe tbody tr th:only-of-type {\n",
       "        vertical-align: middle;\n",
       "    }\n",
       "\n",
       "    .dataframe tbody tr th {\n",
       "        vertical-align: top;\n",
       "    }\n",
       "\n",
       "    .dataframe thead th {\n",
       "        text-align: right;\n",
       "    }\n",
       "</style>\n",
       "<table border=\"1\" class=\"dataframe\">\n",
       "  <thead>\n",
       "    <tr style=\"text-align: right;\">\n",
       "      <th></th>\n",
       "      <th>A</th>\n",
       "      <th>B</th>\n",
       "      <th>C</th>\n",
       "    </tr>\n",
       "  </thead>\n",
       "  <tbody>\n",
       "    <tr>\n",
       "      <th>0</th>\n",
       "      <td>0</td>\n",
       "      <td>0</td>\n",
       "      <td>0</td>\n",
       "    </tr>\n",
       "    <tr>\n",
       "      <th>1</th>\n",
       "      <td>1</td>\n",
       "      <td>1</td>\n",
       "      <td>50</td>\n",
       "    </tr>\n",
       "    <tr>\n",
       "      <th>2</th>\n",
       "      <td>2</td>\n",
       "      <td>4</td>\n",
       "      <td>100</td>\n",
       "    </tr>\n",
       "    <tr>\n",
       "      <th>3</th>\n",
       "      <td>3</td>\n",
       "      <td>9</td>\n",
       "      <td>150</td>\n",
       "    </tr>\n",
       "    <tr>\n",
       "      <th>4</th>\n",
       "      <td>4</td>\n",
       "      <td>16</td>\n",
       "      <td>200</td>\n",
       "    </tr>\n",
       "    <tr>\n",
       "      <th>5</th>\n",
       "      <td>5</td>\n",
       "      <td>25</td>\n",
       "      <td>250</td>\n",
       "    </tr>\n",
       "    <tr>\n",
       "      <th>6</th>\n",
       "      <td>6</td>\n",
       "      <td>36</td>\n",
       "      <td>300</td>\n",
       "    </tr>\n",
       "    <tr>\n",
       "      <th>7</th>\n",
       "      <td>7</td>\n",
       "      <td>49</td>\n",
       "      <td>350</td>\n",
       "    </tr>\n",
       "    <tr>\n",
       "      <th>8</th>\n",
       "      <td>8</td>\n",
       "      <td>64</td>\n",
       "      <td>400</td>\n",
       "    </tr>\n",
       "    <tr>\n",
       "      <th>9</th>\n",
       "      <td>9</td>\n",
       "      <td>81</td>\n",
       "      <td>450</td>\n",
       "    </tr>\n",
       "    <tr>\n",
       "      <th>10</th>\n",
       "      <td>10</td>\n",
       "      <td>100</td>\n",
       "      <td>500</td>\n",
       "    </tr>\n",
       "  </tbody>\n",
       "</table>\n",
       "</div>"
      ],
      "text/plain": [
       "     A    B    C\n",
       "0    0    0    0\n",
       "1    1    1   50\n",
       "2    2    4  100\n",
       "3    3    9  150\n",
       "4    4   16  200\n",
       "5    5   25  250\n",
       "6    6   36  300\n",
       "7    7   49  350\n",
       "8    8   64  400\n",
       "9    9   81  450\n",
       "10  10  100  500"
      ]
     },
     "execution_count": 10,
     "metadata": {},
     "output_type": "execute_result"
    }
   ],
   "source": [
    "df"
   ]
  },
  {
   "cell_type": "code",
   "execution_count": 11,
   "id": "3cbebf28-070b-4e4a-ad50-261268acfc6d",
   "metadata": {},
   "outputs": [],
   "source": [
    "#Jak wspomnieliśmy, XlsxWriter umożliwia nam operowanie na skoroszycie MS Excel w bardzo rozbudowany sposób. \n",
    "#W kolejnym przykładzie dodamy do pliku wykres w całości z poziomu Pythona.\n",
    "\n",
    "#Rozpoczynamy w poznany już wcześniej sposób od zdefiniowania ExcelWriter i zapisania tabeli do nowej zakładki.\n",
    "\n",
    "writer = pd.ExcelWriter('add_chart.xlsx', engine='xlsxwriter')\n",
    "df.to_excel(writer, sheet_name='my_chart')"
   ]
  },
  {
   "cell_type": "code",
   "execution_count": 12,
   "id": "2f1b351c-ba1d-4f3f-93f5-9ead0a69c3d2",
   "metadata": {},
   "outputs": [],
   "source": [
    "#W celu wykreowania wykresu musimy stworzyć obiekty typu Workbook oraz Worksheet.\n",
    "\n",
    "workbook = writer.book\n",
    "worksheet = writer.sheets['my_chart']"
   ]
  },
  {
   "cell_type": "code",
   "execution_count": 13,
   "id": "514213fe-6de5-4a3c-8643-b65ed92e9a91",
   "metadata": {},
   "outputs": [],
   "source": [
    "#Następnie, z poziomu Workbooka tworzymy obiekt Chart, definiując od razu, jakiego typu ma być to wykres. Możemy skorzystać z następujących rodzajów:\n",
    "\n",
    "#    area: wykres powierzchniowy.\n",
    "#    bar: wykres słupkowy (poziomy).\n",
    "#    column: wykres kolumnowy.\n",
    "#    line: wykres liniowy.\n",
    "#    pie: wykres kołowy.\n",
    "#    doughnut: wykres pierścieniowy.\n",
    "#    scatter: wykres punktowy.\n",
    "#    stock: wykres ‘giełdowy’.\n",
    "#    radar: wykres typu radar.\n",
    "\n",
    "#W naszym przykładzie stworzymy wykres z danych umieszczonych w kolumnie B, dlatego najlepszym rozwiązaniem będzie wykres liniowy.\n",
    "\n",
    "chart = workbook.add_chart({'type':'line'})"
   ]
  },
  {
   "cell_type": "code",
   "execution_count": 14,
   "id": "bc29f2e0-6888-4309-8e06-00c39575453e",
   "metadata": {},
   "outputs": [],
   "source": [
    "#Ponieważ w tym momencie pracujemy już w skoroszycie, aby wybrać wartości na wykresie, musimy wskazać zakres komórek, tak, \n",
    "#jak gdybyśmy robili to ręcznie w arkuszu.\n",
    "\n",
    "#Napiszmy funkcję, która tworzy zakres na podstawie kolumny, którą chcemy użyć jako wartości wykresu.\n",
    "\n",
    "def grab_series(df, sheet_name, colname, startcol=0, startrow=0):\n",
    "\n",
    "    col_index = df.columns.tolist().index(colname)\n",
    "    col_letter = chr(ord('@')+(col_index+2+startcol))\n",
    "    first_row = startrow + 2\n",
    "    last_row = startrow + 1 + len(df)\n",
    "    return f\"='{sheet_name}'!{col_letter}{first_row}:{col_letter}{last_row}\""
   ]
  },
  {
   "cell_type": "code",
   "execution_count": 15,
   "id": "80179ba4-0229-43a7-ab38-b1718b7f41fc",
   "metadata": {},
   "outputs": [],
   "source": [
    "#Teraz do obiektu chart możemy dodać serię wartości:\n",
    "\n",
    "chart.add_series({'values':grab_series(df,'my_chart','B')})"
   ]
  },
  {
   "cell_type": "code",
   "execution_count": 16,
   "id": "9800dbc7-d69f-4e20-a3f6-28e6b2eda246",
   "metadata": {},
   "outputs": [],
   "source": [
    "#Jeśli nasz wykres nabrał już pierwszych kształtów, możemy sformatować go wedle uznania. Na pewno będziemy chcieli zająć się osią X: \n",
    "#wprowadzimy jej nazwę, zmienimy rozmiar oraz grubość czcionki; poza tym będziemy chcieli, aby wartości na osi X były wydrukowane pochyloną czcionką.\n",
    "\n",
    "chart.set_x_axis({\n",
    "    'name': 'x^2',\n",
    "    'name_font': {'size': 14, 'bold': True},\n",
    "    'num_font':  {'italic': True },\n",
    "})"
   ]
  },
  {
   "cell_type": "code",
   "execution_count": 17,
   "id": "6e2b5245-4318-467e-8f91-e1727b81aa6b",
   "metadata": {},
   "outputs": [],
   "source": [
    "#Ponieważ nadaliśmy już nazwę osi X, a nasz wykres zawiera tylko jedną serię – dobrym pomysłem będzie pozbycie się legendy, \n",
    "#która domyślnie zawsze pojawia się na wykresie. W tym celu wystarczy wprowadzić polecenie:\n",
    "\n",
    "chart.set_legend({'none': True})"
   ]
  },
  {
   "cell_type": "code",
   "execution_count": 18,
   "id": "3312c930-008a-43d5-8213-233af98e02f7",
   "metadata": {},
   "outputs": [
    {
     "data": {
      "text/plain": [
       "0"
      ]
     },
     "execution_count": 18,
     "metadata": {},
     "output_type": "execute_result"
    }
   ],
   "source": [
    "#Zakończyliśmy pracę nad wykresem, zatem kolejnym krokiem jest umieszczenie go w wybranym miejscu arkusza,\n",
    "#w którym pracujemy. Wcześniej stworzyliśmy obiekt worksheet, który posłuży nam do osadzenia wykresu w pliku.\n",
    "\n",
    "worksheet.insert_chart('F2', chart)"
   ]
  },
  {
   "cell_type": "code",
   "execution_count": 20,
   "id": "324c0ec3-6318-4485-b2eb-177a766c9556",
   "metadata": {},
   "outputs": [],
   "source": [
    "#Na koniec zapiszemy i zamkniemy plik.\n",
    "\n",
    "\n",
    "workbook.close()"
   ]
  },
  {
   "cell_type": "code",
   "execution_count": 21,
   "id": "05c4b14b-288c-4c48-a430-430aa7c4e75b",
   "metadata": {},
   "outputs": [],
   "source": [
    "#W taki oto sposób udało nam się zapisać tabelę i stworzyć do niej wykres bez ręcznej pracy w Excelu. Oczywiście, silnik XlsxWriter umożliwia bardziej\n",
    "#zaawansowane formatowanie. Zachęcamy do zapoznania się z dokumentacją.\n",
    "\n",
    "#W kolejnym przykładzie stworzymy plik, który zawierał będzie w sobie formatowanie warunkowe na komórkach przechowujących wartość z wyeksportowanej \n",
    "#przez nas tabeli oraz komórkę przyjmującą jedynie wartości będące liczbami całkowitymi większymi od zera.\n",
    "\n",
    "#Rozpoczniemy tak, jak ostatnio, od stworzenia trzech podstawowych obiektów i wyeksportowania DataFrame:\n",
    "\n",
    "writer = pd.ExcelWriter('conditional_format.xlsx', engine='xlsxwriter')\n",
    "\n",
    "df.to_excel(writer, sheet_name='my_conditional')\n",
    "\n",
    "workbook = writer.book\n",
    "worksheet = writer.sheets['my_conditional']"
   ]
  },
  {
   "cell_type": "code",
   "execution_count": 22,
   "id": "2983f95b-c44b-4249-a52b-040bf5f92428",
   "metadata": {},
   "outputs": [],
   "source": [
    "#Będziemy chcieli wzbogacić ostatnią kolumnę wyeksportowanej tabeli o formatowanie warunkowe dla wartości powyżej liczby 300.\n",
    "#W tym celu musimy ustalić jaki format przybiorą komórki spełniające warunek.\n",
    "\n",
    "#Stworzymy nasz własny format w tym skoroszycie, korzystając z metody add_format.\n",
    "\n",
    "format1 = workbook.add_format({'bg_color':   '#FFC7CE',\n",
    "                               'font_color': '#9C0006'})"
   ]
  },
  {
   "cell_type": "code",
   "execution_count": 23,
   "id": "14696af0-e1d9-4433-99e7-8b5a688d279c",
   "metadata": {},
   "outputs": [
    {
     "data": {
      "text/plain": [
       "0"
      ]
     },
     "execution_count": 23,
     "metadata": {},
     "output_type": "execute_result"
    }
   ],
   "source": [
    "#W końcu możemy ustawić formatowanie warunkowe:\n",
    "\n",
    "worksheet.conditional_format(\"D2:D12\",{'type': 'cell',\n",
    "                                      'criteria':'>=',\n",
    "                                      'value':300,\n",
    "                                      'format':format1})"
   ]
  },
  {
   "cell_type": "code",
   "execution_count": 24,
   "id": "44f42e02-b125-404a-8332-df15a47533f1",
   "metadata": {},
   "outputs": [
    {
     "data": {
      "text/plain": [
       "0"
      ]
     },
     "execution_count": 24,
     "metadata": {},
     "output_type": "execute_result"
    }
   ],
   "source": [
    "#Korzystamy z funkcji conditional_format dostępnej z obiektu worksheet. Na początku wskazujemy zakres komórek, którego ma dotyczyć formatowanie,\n",
    "#a następnie wprowadzamy wszystkie parametry formatowania warunkowego.\n",
    "\n",
    "#W środowisku MS Excel mamy możliwość wyboru z wielu wbudowanych rodzajów/schematów formatowania warunkowego. Nas interesuje formatowanie na podstawie\n",
    "#porównania do stałej wartości, będziemy bowiem sprawdzać, które komórki mają wartość większą od liczby 300. \n",
    "#Z tego powodu parametr type przyjmuje w przykładzie wartość cell. To z kolei implikuje ilość i rodzaj pozostałych parametrów do uzupełnienia.\n",
    "\n",
    "#Dla typu formatowania warunkowego cell możemy doprecyzować: criteria, value, minimum, maximum oraz format.\n",
    "\n",
    "#Po ustawieniu formatowania warunkowego zajmiemy się dodaniem jeszcze jednej funkcjonalności – walidacji danych.\n",
    "\n",
    "#W komórce A16 wprowadzimy wartość tekstową o treści “Podaj liczbę całkowitą większą od 0:”.\n",
    "\n",
    "worksheet.write_string('A16','Podaj liczbę całkowitą większą od 0:')"
   ]
  },
  {
   "cell_type": "code",
   "execution_count": 25,
   "id": "aab92108-74cc-4661-bd4b-3389e43a7e2d",
   "metadata": {},
   "outputs": [
    {
     "data": {
      "text/plain": [
       "0"
      ]
     },
     "execution_count": 25,
     "metadata": {},
     "output_type": "execute_result"
    }
   ],
   "source": [
    "#Jeśli w odpowiedzi dostaniemy wartość 0 – oznaczać to będzie, że wszystko poszło dobrze. Wartość (-1) pojawi się, jeśli wprowadzony zakres wykracza \n",
    "#poza obszar arkusza, a (-2) będzie oznaczać, że wartość tekstowa została skrócona do 32 tysięcy znaków.\n",
    "\n",
    "#W komórce obok, tj. B16, wprowadzimy teraz zasadę walidującą, zezwalającą na wprowadzanie do niej wyłącznie liczb całkowitych większych od 0.\n",
    "\n",
    "worksheet.data_validation('B16', {\n",
    "    'validate':'integer',\n",
    "    'criteria':'>',\n",
    "    'value':0\n",
    "})"
   ]
  },
  {
   "cell_type": "code",
   "execution_count": 26,
   "id": "8d9a8da2-f9cb-4184-8240-b2f601d0296d",
   "metadata": {},
   "outputs": [
    {
     "data": {
      "text/plain": [
       "0"
      ]
     },
     "execution_count": 26,
     "metadata": {},
     "output_type": "execute_result"
    }
   ],
   "source": [
    "#Poza testowaniem czy wprowadzana wartość jest liczbą całkowitą, możemy wykorzystać również inne opcje:\n",
    "\n",
    "#    decimal: ogranicza wartość komórki do liczb rzeczywistych.\n",
    "#    list: ogranicza wartość komórki do listy wybranej przez użytkownika. Lista może być wprowadzona w postaci listy znanej z Pythona lub odniesienia do komórek w arkuszu.\n",
    "#    date: ogranicza wartość komórki do poprawnie wprowadzonych dat.\n",
    "#    time: ogranicza wartość komórki do obiektów datetime.\n",
    "#    length: wyznacza górną granicę długości ciągu tekstowego.\n",
    "#    custom: ogranicza możliwe wartości do tych, które spełniają wskazany warunek logiczny.\n",
    "\n",
    "#Ponieważ wcześniej wprowadziliśmy do komórki A16 długi ciąg znaków, dobrym pomysłem będzie rozszerzenie kolumny A,\n",
    "#tak aby wartości w niej zawarte na pewno były widoczne dla użytkownika.\n",
    "\n",
    "worksheet.set_column('A:A',35)"
   ]
  },
  {
   "cell_type": "code",
   "execution_count": 27,
   "id": "45485b2d-38a0-429a-84bb-9a335336769f",
   "metadata": {},
   "outputs": [],
   "source": [
    "#Na koniec zapisujemy i zamykamy plik.\n",
    "\n",
    "\n",
    "workbook.close()"
   ]
  },
  {
   "cell_type": "code",
   "execution_count": null,
   "id": "f1066b63-5a88-4155-9632-46ea71fdeaf8",
   "metadata": {},
   "outputs": [],
   "source": []
  }
 ],
 "metadata": {
  "kernelspec": {
   "display_name": "Python 3 (ipykernel)",
   "language": "python",
   "name": "python3"
  },
  "language_info": {
   "codemirror_mode": {
    "name": "ipython",
    "version": 3
   },
   "file_extension": ".py",
   "mimetype": "text/x-python",
   "name": "python",
   "nbconvert_exporter": "python",
   "pygments_lexer": "ipython3",
   "version": "3.13.1"
  }
 },
 "nbformat": 4,
 "nbformat_minor": 5
}
